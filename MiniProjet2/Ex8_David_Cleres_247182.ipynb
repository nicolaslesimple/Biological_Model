{
 "cells": [
  {
   "cell_type": "markdown",
   "metadata": {},
   "source": [
    "# Solution Graded Exercise 8: Hopfield Network model of associative memory"
   ]
  },
  {
   "cell_type": "markdown",
   "metadata": {},
   "source": [
    "first name: David\n",
    "\n",
    "last name: Cleres\n",
    "\n",
    "sciper: 247182\n",
    "\n",
    "date: 23.04.2018\n",
    "\n",
    "*Your teammate*\n",
    "\n",
    "first name of your teammate: Nicolas\n",
    "\n",
    "last name of your teammate: Lesimple\n",
    "\n",
    "sciper of your teammate: 237699\n",
    "\n",
    "\n",
    "Note: You are allowed to discuss the concepts with your class mates. You are not allowed to share code. You have to understand every line of code you write in this notebook. We will ask you questions about your submission during a fraud detection session during the last week of the semester.\n",
    "\n",
    "** Remember **\n",
    "\n",
    "If you are asked for plots: The appearance of the plots (labelled axes, ** useful scaling **, etc.) is important!\n",
    "\n",
    "If you are asked for discussions: Answer in a precise way and try to be concise. \n",
    "\n",
    "\n",
    "** Submission **\n",
    "\n",
    "Rename this notebook to Ex8_FirstName_LastName_Sciper.ipynb and upload that single file on moodle before the deadline.\n",
    "\n",
    "** Link to the exercise **\n",
    "\n",
    "http://neuronaldynamics-exercises.readthedocs.io/en/latest/exercises/hopfield-network.html"
   ]
  },
  {
   "cell_type": "markdown",
   "metadata": {},
   "source": [
    "## \\* \\* \\* \\* Programming Notes : Copying and slicing lists and numpy arrays \\* \\* \\* \\*\n",
    "We would like to take the opportunity to bring to your attention certain features of Python, that might lead to unwanted behaviour and serious mistakes, if one is not aware of them. \n",
    "Please check the Python Cheat Sheet file on the moodle (https://moodle.epfl.ch/mod/page/view.php?id=981134 Part 4 of the ipynb file) for some examples of the following notes:\n",
    "\n",
    "* Assigning a list to a new variable does not create a copy of the list, but creates a variable that points to the list. This means that modifying the second variable, also modifies the original list.\n",
    "* Assigning a slice of a list to a new variable, creates a copy of the list. Any modification to the sliced list does not modify the original.\n",
    "\n",
    "Now when it comes to numpy arrays:\n",
    "* Assigning a numpy array to a new variable does not create a copy of the array, but creates a variable that points to the array. This means that modifying the second variable, also modifies the original array. (same as above)\n",
    "* Assigning a slice of a numpy array to a new variable creates a variable that points to the corresponding elements of the original array as well! (contrary to what we saw above!) This means that modifying the second variable, also modifies the original array!\n",
    "* To copy the original array and ensure that it is not modified by any modification of its copied version, the method copy() should be used."
   ]
  },
  {
   "cell_type": "markdown",
   "metadata": {},
   "source": [
    "# Exercise 8.1. Getting started"
   ]
  },
  {
   "cell_type": "code",
   "execution_count": 1,
   "metadata": {},
   "outputs": [
    {
     "data": {
      "image/png": "[encoded data removed]",
      "text/plain": [
       "<matplotlib.figure.Figure at 0xa714748>"
      ]
     },
     "metadata": {},
     "output_type": "display_data"
    },
    {
     "name": "stderr",
     "output_type": "stream",
     "text": [
      "C:\\Users\\nicol\\Miniconda2\\envs\\biomodel\\lib\\site-packages\\matplotlib\\cbook\\deprecation.py:106: MatplotlibDeprecationWarning: Adding an axes using the same arguments as a previous axes currently reuses the earlier instance.  In a future version, a new instance will always be created and returned.  Meanwhile, this warning can be suppressed, and the future behavior ensured, by passing a unique label to each axes instance.\n",
      "  warnings.warn(message, mplDeprecation, stacklevel=1)\n"
     ]
    },
    {
     "data": {
      "image/png": "[encoded data removed]",
      "text/plain": [
       "<matplotlib.figure.Figure at 0xab48588>"
      ]
     },
     "metadata": {},
     "output_type": "display_data"
    },
    {
     "data": {
      "image/png": "[encoded data removed]",
      "text/plain": [
       "<matplotlib.figure.Figure at 0xa5b0c50>"
      ]
     },
     "metadata": {},
     "output_type": "display_data"
    }
   ],
   "source": [
    "%matplotlib inline\n",
    "from neurodynex.hopfield_network import network, pattern_tools, plot_tools\n",
    "\n",
    "pattern_size = 5\n",
    "\n",
    "# create an instance of the class HopfieldNetwork\n",
    "hopfield_net = network.HopfieldNetwork(nr_neurons= pattern_size**2)\n",
    "# instantiate a pattern factory\n",
    "factory = pattern_tools.PatternFactory(pattern_size, pattern_size)\n",
    "# create a checkerboard pattern and add it to the pattern list\n",
    "checkerboard = factory.create_checkerboard()\n",
    "pattern_list = [checkerboard]\n",
    "\n",
    "# add random patterns to the list\n",
    "pattern_list.extend(factory.create_random_pattern_list(nr_patterns=3, on_probability=0.5))\n",
    "plot_tools.plot_pattern_list(pattern_list)\n",
    "# how similar are the random patterns and the checkerboard? Check the overlaps\n",
    "overlap_matrix = pattern_tools.compute_overlap_matrix(pattern_list)\n",
    "plot_tools.plot_overlap_matrix(overlap_matrix)\n",
    "\n",
    "# let the hopfield network \"learn\" the patterns. Note: they are not stored\n",
    "# explicitly but only network weights are updated !\n",
    "hopfield_net.store_patterns(pattern_list)\n",
    "\n",
    "# create a noisy version of a pattern and use that to initialize the network\n",
    "noisy_init_state = pattern_tools.flip_n(checkerboard, nr_of_flips=4)\n",
    "hopfield_net.set_state_from_pattern(noisy_init_state)\n",
    "\n",
    "# from this initial state, let the network dynamics evolve.\n",
    "states = hopfield_net.run_with_monitoring(nr_steps=4)\n",
    "\n",
    "# each network state is a vector. reshape it to the same shape used to create the patterns.\n",
    "states_as_patterns = factory.reshape_patterns(states)\n",
    "# plot the states of the network\n",
    "plot_tools.plot_state_sequence_and_overlap(states_as_patterns, pattern_list, reference_idx=0, suptitle=\"Network dynamics\")\n"
   ]
  },
  {
   "cell_type": "markdown",
   "metadata": {},
   "source": [
    "# 8.3. Exercise: N=4x4 Hopfield-network\n",
    "## 8.3.1. Question: Storing a single pattern\n",
    "#### [2 + 2 + 3 points]"
   ]
  },
  {
   "cell_type": "code",
   "execution_count": 2,
   "metadata": {},
   "outputs": [
    {
     "data": {
      "image/png": "[encoded data removed]",
      "text/plain": [
       "<matplotlib.figure.Figure at 0x10accf510>"
      ]
     },
     "metadata": {},
     "output_type": "display_data"
    },
    {
     "data": {
      "image/png": "[encoded data removed]",
      "text/plain": [
       "<matplotlib.figure.Figure at 0x10abd1690>"
      ]
     },
     "metadata": {},
     "output_type": "display_data"
    }
   ],
   "source": [
    "#Create a network with N=16 neurons.\n",
    "pattern_size = 4\n",
    "\n",
    "# create an instance of the class HopfieldNetwork / Create a single 4 by 4 checkerboard pattern.\n",
    "hopfield_net = network.HopfieldNetwork(nr_neurons= pattern_size**2)\n",
    "# instantiate a pattern factory\n",
    "factory = pattern_tools.PatternFactory(pattern_size, pattern_size)\n",
    "checkerboard = factory.create_checkerboard()\n",
    "\n",
    "# create a checkerboard pattern and add it to the pattern list / Store the checkerboard in the network.\n",
    "pattern_list = [checkerboard]\n",
    "plot_tools.plot_pattern_list(pattern_list)\n",
    "\n",
    "# how similar are the random patterns and the checkerboard? Check the overlaps\n",
    "overlap_matrix = pattern_tools.compute_overlap_matrix(pattern_list)\n",
    "plot_tools.plot_overlap_matrix(overlap_matrix)\n",
    "\n",
    "# let the hopfield network \"learn\" the patterns. Note: they are not stored\n",
    "# explicitly but only network weights are updated !\n",
    "hopfield_net.store_patterns(pattern_list)\n",
    "\n",
    "# create a noisy version of a pattern and use that to initialize the network\n",
    "noisy_init_state = pattern_tools.flip_n(checkerboard, nr_of_flips=5)\n",
    "hopfield_net.set_state_from_pattern(noisy_init_state)\n",
    "\n",
    "# from this initial state, let the network dynamics evolve.\n",
    "states = hopfield_net.run_with_monitoring(nr_steps=4)"
   ]
  },
  {
   "cell_type": "code",
   "execution_count": 3,
   "metadata": {},
   "outputs": [
    {
     "data": {
      "image/png": "[encoded data removed]",
      "text/plain": [
       "<matplotlib.figure.Figure at 0x108c45850>"
      ]
     },
     "metadata": {},
     "output_type": "display_data"
    }
   ],
   "source": [
    "# Plot the sequence of network states along with the overlap of network state with the checkerboard\n",
    "# each network state is a vector. reshape it to the same shape used to create the patterns.\n",
    "states_as_patterns = factory.reshape_patterns(states)\n",
    "# plot the states of the network\n",
    "plot_tools.plot_state_sequence_and_overlap(states_as_patterns, pattern_list, reference_idx=0, suptitle=\"Network dynamics\")"
   ]
  },
  {
   "cell_type": "markdown",
   "metadata": {},
   "source": [
    "Now test whether the network can still retrieve the pattern if we increase the number of flipped pixels. What happens at nr_flipped_pixels = 8, what if nr_flipped_pixels > 8 ?"
   ]
  },
  {
   "cell_type": "code",
   "execution_count": 4,
   "metadata": {},
   "outputs": [
    {
     "data": {
      "image/png": "[encoded data removed]",
      "text/plain": [
       "<matplotlib.figure.Figure at 0x108c452d0>"
      ]
     },
     "metadata": {},
     "output_type": "display_data"
    }
   ],
   "source": [
    "### FOR 8 FLIPS IN THE NETWORK ###\n",
    "# create a noisy version of a pattern and use that to initialize the network\n",
    "noisy_init_state = pattern_tools.flip_n(checkerboard, nr_of_flips=8)\n",
    "hopfield_net.set_state_from_pattern(noisy_init_state)\n",
    "\n",
    "# from this initial state, let the network dynamics evolve.\n",
    "states = hopfield_net.run_with_monitoring(nr_steps=5)\n",
    "\n",
    "# Plot the sequence of network states along with the overlap of network state with the checkerboard\n",
    "# each network state is a vector. reshape it to the same shape used to create the patterns.\n",
    "states_as_patterns = factory.reshape_patterns(states)\n",
    "# plot the states of the network\n",
    "plot_tools.plot_state_sequence_and_overlap(states_as_patterns, pattern_list, reference_idx=0, suptitle=\"Network dynamics\")"
   ]
  },
  {
   "cell_type": "markdown",
   "metadata": {},
   "source": [
    "If we set the amount of flipped pixkels to 8 then we always end with a random pattern of pixels as a final state and the pattern is not retrieved"
   ]
  },
  {
   "cell_type": "code",
   "execution_count": 5,
   "metadata": {},
   "outputs": [
    {
     "data": {
      "image/png": "[encoded data removed]",
      "text/plain": [
       "<matplotlib.figure.Figure at 0x10b7779d0>"
      ]
     },
     "metadata": {},
     "output_type": "display_data"
    }
   ],
   "source": [
    "### FOR MORE THAN 8 FLIPS IN THE NETWORK ###\n",
    "# create a noisy version of a pattern and use that to initialize the network\n",
    "noisy_init_state = pattern_tools.flip_n(checkerboard, nr_of_flips=12)\n",
    "hopfield_net.set_state_from_pattern(noisy_init_state)\n",
    "\n",
    "# from this initial state, let the network dynamics evolve.\n",
    "states = hopfield_net.run_with_monitoring(nr_steps=5)\n",
    "\n",
    "# Plot the sequence of network states along with the overlap of network state with the checkerboard\n",
    "# each network state is a vector. reshape it to the same shape used to create the patterns.\n",
    "states_as_patterns = factory.reshape_patterns(states)\n",
    "# plot the states of the network\n",
    "plot_tools.plot_state_sequence_and_overlap(states_as_patterns, pattern_list, reference_idx=0, suptitle=\"Network dynamics\")"
   ]
  },
  {
   "cell_type": "markdown",
   "metadata": {},
   "source": [
    "If we set the amount of flipped pixkels to more than 8 then we never end with the pattern to retrieve. In a large majority of cases all the pixels end in the same state which is (blue (-1)) and in very rare cases we end up with a random pattern of pixels"
   ]
  },
  {
   "cell_type": "markdown",
   "metadata": {},
   "source": [
    "## 8.3.2. Question: the weights matrix\n",
    "#### [1 + 3 + 2 points]"
   ]
  },
  {
   "cell_type": "code",
   "execution_count": 6,
   "metadata": {},
   "outputs": [
    {
     "data": {
      "image/png": "[encoded data removed]",
      "text/plain": [
       "<matplotlib.figure.Figure at 0x10aba1210>"
      ]
     },
     "metadata": {},
     "output_type": "display_data"
    },
    {
     "data": {
      "image/png": "[encoded data removed]",
      "text/plain": [
       "<matplotlib.figure.Figure at 0x10abb17d0>"
      ]
     },
     "metadata": {},
     "output_type": "display_data"
    }
   ],
   "source": [
    "#1. Create a network 4x4.\n",
    "pattern_size = 4\n",
    "hopfield_net = network.HopfieldNetwork(nr_neurons= pattern_size**2)\n",
    "\n",
    "#2. What is the size of the network matrix? 16 Neurons ??????????????????? Mais pourquoi la matrice est de taille 16x16 ???? \n",
    "\n",
    "#3. Visualize the weight matrix using the function plot_tools.plot_nework_weights(). It takes the network as a parameter.\n",
    "plot_tools.plot_nework_weights(hopfield_net)\n",
    "\n",
    "#4. Create a checkerboard, store it in the network.\n",
    "factory = pattern_tools.PatternFactory(pattern_size, pattern_size)\n",
    "checkerboard = factory.create_checkerboard()\n",
    "pattern_list = [checkerboard]\n",
    "hopfield_net.store_patterns(pattern_list)\n",
    "#5. Plot the weights matrix. What weight values do occur?\n",
    "plot_tools.plot_nework_weights(hopfield_net)"
   ]
  },
  {
   "cell_type": "code",
   "execution_count": 7,
   "metadata": {},
   "outputs": [
    {
     "data": {
      "image/png": "[encoded data removed]",
      "text/plain": [
       "<matplotlib.figure.Figure at 0x10b724a50>"
      ]
     },
     "metadata": {},
     "output_type": "display_data"
    }
   ],
   "source": [
    "#6. Create a new 4x4 network\n",
    "pattern_size = 4\n",
    "hopfield_net = network.HopfieldNetwork(nr_neurons= pattern_size**2)\n",
    "\n",
    "#7. Create an L-shaped pattern (look at the pattern factory doc), store it in the network\n",
    "factory = pattern_tools.PatternFactory(pattern_size, pattern_size)\n",
    "L_shape = factory.create_L_pattern()\n",
    "pattern_list = [L_shape]\n",
    "hopfield_net.store_patterns(pattern_list)\n",
    "#8. Plot the weights matrix. What weight values do occur?\n",
    "plot_tools.plot_nework_weights(hopfield_net)"
   ]
  },
  {
   "cell_type": "code",
   "execution_count": 8,
   "metadata": {},
   "outputs": [
    {
     "data": {
      "image/png": "[encoded data removed]",
      "text/plain": [
       "<matplotlib.figure.Figure at 0x10afbae50>"
      ]
     },
     "metadata": {},
     "output_type": "display_data"
    }
   ],
   "source": [
    "#9. Create a new 4x4 network\n",
    "pattern_size = 4\n",
    "hopfield_net = network.HopfieldNetwork(nr_neurons= pattern_size**2)\n",
    "\n",
    "#10. Create a checkerboard and an L-shaped pattern. Store both patterns in the network\n",
    "L_shape = factory.create_L_pattern()\n",
    "checkerboard = factory.create_checkerboard()\n",
    "\n",
    "pattern_list = [L_shape, checkerboard]\n",
    "hopfield_net.store_patterns(pattern_list)\n",
    "#11. Plot the weights matrix. What weight values do occur?How does this matrix compare to the two previous matrices?\n",
    "plot_tools.plot_nework_weights(hopfield_net)"
   ]
  },
  {
   "cell_type": "markdown",
   "metadata": {},
   "source": [
    "How does this matrix compare to the two previous matrices?"
   ]
  },
  {
   "cell_type": "markdown",
   "metadata": {},
   "source": [
    "Whereas the two first matrices looked the same. The third matrix is quite different from the first two. However the symmetric seems to have been kept as well as the central line of symetry. "
   ]
  },
  {
   "cell_type": "markdown",
   "metadata": {},
   "source": [
    "## 8.3.3. Question (optional): Weights Distribution"
   ]
  },
  {
   "cell_type": "code",
   "execution_count": 9,
   "metadata": {},
   "outputs": [
    {
     "data": {
      "text/plain": [
       "(array([ 64.,   0.,   0.,   0.,   0., 142.,   0.,   0.,   0.,  50.]),\n",
       " array([-0.125, -0.1  , -0.075, -0.05 , -0.025,  0.   ,  0.025,  0.05 ,\n",
       "         0.075,  0.1  ,  0.125]),\n",
       " <a list of 10 Patch objects>)"
      ]
     },
     "execution_count": 9,
     "metadata": {},
     "output_type": "execute_result"
    },
    {
     "data": {
      "image/png": "[encoded data removed]",
      "text/plain": [
       "<matplotlib.figure.Figure at 0x10abb1e90>"
      ]
     },
     "metadata": {},
     "output_type": "display_data"
    }
   ],
   "source": [
    "# You can easily plot a histogram by adding the following two lines to your script. \n",
    "#It assumes you have stored your network in the variable ‘hopfield_net’.\n",
    "\n",
    "import matplotlib.pyplot as plt\n",
    "\n",
    "plt.figure()\n",
    "plt.hist(hopfield_net.weights.flatten())"
   ]
  },
  {
   "cell_type": "markdown",
   "metadata": {},
   "source": [
    "# 8.4. Exercise: Capacity of an N=100 Hopfield-network\n",
    "## 8.4.1. Associative memory.\n",
    "#### [2 points]"
   ]
  },
  {
   "cell_type": "markdown",
   "metadata": {
    "collapsed": true
   },
   "source": [
    "A Hopfield network implements so called associative or content-adressable memory. Explain what this means. (max 4 lines)"
   ]
  },
  {
   "cell_type": "markdown",
   "metadata": {},
   "source": [
    "The hopfield model is based on matching patterns. These patterns are known in advance this means that, in the case of the computer, we can give then as an input. In the case of the brain this means that one has already encountered and learned a given pattern (tate, form and color of a banana) so that we can match a something we see with the learnt and memorized pattern.  "
   ]
  },
  {
   "cell_type": "markdown",
   "metadata": {
    "collapsed": true
   },
   "source": [
    "## 8.4.2. Capacity of the network.\n",
    "#### [1 points]"
   ]
  },
  {
   "cell_type": "markdown",
   "metadata": {
    "collapsed": true
   },
   "source": [
    "Using the value $C_{store}$\n",
    " given in the book, how many patterns can you store in a N=10x10 network? Use this number K in the next question:\n"
   ]
  },
  {
   "cell_type": "markdown",
   "metadata": {},
   "source": [
    "The value of Cstore in the book is Mmax / N = Cstore with Cstore = 0.138 \n",
    "Mmax = N * Cstore = 10x10x0.138 = 13.8 patterns ~14 patterns "
   ]
  },
  {
   "cell_type": "markdown",
   "metadata": {
    "collapsed": true
   },
   "source": [
    "## 8.4.3. Checkerboard and random patterns.\n",
    "#### [3 points]"
   ]
  },
  {
   "cell_type": "code",
   "execution_count": 10,
   "metadata": {},
   "outputs": [
    {
     "data": {
      "image/png": "[encoded data removed]",
      "text/plain": [
       "<matplotlib.figure.Figure at 0x10ac00f90>"
      ]
     },
     "metadata": {},
     "output_type": "display_data"
    },
    {
     "data": {
      "image/png": "[encoded data removed]",
      "text/plain": [
       "<matplotlib.figure.Figure at 0x10bc9e390>"
      ]
     },
     "metadata": {},
     "output_type": "display_data"
    },
    {
     "data": {
      "image/png": "[encoded data removed]",
      "text/plain": [
       "<matplotlib.figure.Figure at 0x10bcf9210>"
      ]
     },
     "metadata": {},
     "output_type": "display_data"
    }
   ],
   "source": [
    "pattern_size = 10\n",
    "hopfield_net = network.HopfieldNetwork(nr_neurons= pattern_size**2)\n",
    "Cstore = 0.138\n",
    "K = int(Cstore*10*10)\n",
    "\n",
    "factory = pattern_tools.PatternFactory(pattern_size, pattern_size)\n",
    "checkerboard = factory.create_checkerboard()\n",
    "pattern_list = [checkerboard]\n",
    "\n",
    "hopfield_net.store_patterns(pattern_list)\n",
    "#11. Plot the weights matrix. What weight values do occur?How does this matrix compare to the two previous matrices?\n",
    "plot_tools.plot_nework_weights(hopfield_net)\n",
    "\n",
    "# add random patterns to the list\n",
    "pattern_list.extend(factory.create_random_pattern_list(nr_patterns=K, on_probability=0.5))\n",
    "plot_tools.plot_pattern_list(pattern_list)\n",
    "\n",
    "# let the hopfield network \"learn\" the patterns. Note: they are not stored\n",
    "# explicitly but only network weights are updated !\n",
    "hopfield_net.store_patterns(pattern_list)\n",
    "\n",
    "#initializes the network with the unchanged checkboard pattern\n",
    "hopfield_net.set_state_from_pattern(pattern_list[0])\n",
    "\n",
    "# from this initial state, let the network dynamics evolve.\n",
    "states = hopfield_net.run_with_monitoring(nr_steps=5)\n",
    "\n",
    "# each network state is a vector. reshape it to the same shape used to create the patterns.\n",
    "states_as_patterns = factory.reshape_patterns(states)\n",
    "# plot the states of the network\n",
    "plot_tools.plot_state_sequence_and_overlap(states_as_patterns, pattern_list, reference_idx=0, suptitle=\"Network dynamics\")"
   ]
  },
  {
   "cell_type": "markdown",
   "metadata": {
    "collapsed": true
   },
   "source": [
    "Rerun your script a few times. What do you observe? \n",
    "#### [2 points]\n",
    "If we initialize the model at the unchanged value then we already have the pattern so nothing happens. "
   ]
  },
  {
   "cell_type": "markdown",
   "metadata": {},
   "source": [
    "# 8.5. Exercise: Non-random patterns\n",
    "## 8.5.1. Alphabet."
   ]
  },
  {
   "cell_type": "code",
   "execution_count": 11,
   "metadata": {},
   "outputs": [
    {
     "name": "stdout",
     "output_type": "stream",
     "text": [
      "the alphabet is stored in an object of type: <type 'dict'>\n",
      "letters are patterns of size: (10, 10). Create a network of corresponding size\n"
     ]
    },
    {
     "data": {
      "image/png": "[encoded data removed]",
      "text/plain": [
       "<matplotlib.figure.Figure at 0x10b87f8d0>"
      ]
     },
     "metadata": {},
     "output_type": "display_data"
    },
    {
     "ename": "ValueError",
     "evalue": "shape mismatch: value array of shape (100,) could not be broadcast to indexing result of shape (20,)",
     "output_type": "error",
     "traceback": [
      "\u001b[0;31m---------------------------------------------------------------------------\u001b[0m",
      "\u001b[0;31mValueError\u001b[0m                                Traceback (most recent call last)",
      "\u001b[0;32m<ipython-input-11-696e420e14c3>\u001b[0m in \u001b[0;36m<module>\u001b[0;34m()\u001b[0m\n\u001b[1;32m     26\u001b[0m \u001b[0;34m\u001b[0m\u001b[0m\n\u001b[1;32m     27\u001b[0m \u001b[0;31m# # create a noisy version of a pattern and use that to initialize the network\u001b[0m\u001b[0;34m\u001b[0m\u001b[0;34m\u001b[0m\u001b[0m\n\u001b[0;32m---> 28\u001b[0;31m \u001b[0mnoisy_init_state\u001b[0m \u001b[0;34m=\u001b[0m \u001b[0mpattern_tools\u001b[0m\u001b[0;34m.\u001b[0m\u001b[0mget_noisy_copy\u001b[0m\u001b[0;34m(\u001b[0m\u001b[0mabc_dictionary\u001b[0m\u001b[0;34m[\u001b[0m\u001b[0;34m'A'\u001b[0m\u001b[0;34m]\u001b[0m\u001b[0;34m,\u001b[0m \u001b[0mnoise_level\u001b[0m\u001b[0;34m=\u001b[0m\u001b[0;36m0.2\u001b[0m\u001b[0;34m)\u001b[0m\u001b[0;34m\u001b[0m\u001b[0m\n\u001b[0m\u001b[1;32m     29\u001b[0m \u001b[0mhopfield_net\u001b[0m\u001b[0;34m.\u001b[0m\u001b[0mset_state_from_pattern\u001b[0m\u001b[0;34m(\u001b[0m\u001b[0mnoisy_init_state\u001b[0m\u001b[0;34m)\u001b[0m\u001b[0;34m\u001b[0m\u001b[0m\n\u001b[1;32m     30\u001b[0m \u001b[0;34m\u001b[0m\u001b[0m\n",
      "\u001b[0;32m/Users/davidcleres/miniconda2/envs/bmnn/lib/python2.7/site-packages/neurodynex/hopfield_network/pattern_tools.pyc\u001b[0m in \u001b[0;36mget_noisy_copy\u001b[0;34m(template, noise_level)\u001b[0m\n\u001b[1;32m    235\u001b[0m     \u001b[0mrand_values\u001b[0m \u001b[0;34m=\u001b[0m \u001b[0mnp\u001b[0m\u001b[0;34m.\u001b[0m\u001b[0mrandom\u001b[0m\u001b[0;34m.\u001b[0m\u001b[0mbinomial\u001b[0m\u001b[0;34m(\u001b[0m\u001b[0;36m1\u001b[0m\u001b[0;34m,\u001b[0m \u001b[0;36m0.5\u001b[0m\u001b[0;34m,\u001b[0m \u001b[0mn\u001b[0m\u001b[0;34m)\u001b[0m\u001b[0;34m\u001b[0m\u001b[0m\n\u001b[1;32m    236\u001b[0m     \u001b[0mrand_values\u001b[0m \u001b[0;34m=\u001b[0m \u001b[0mrand_values\u001b[0m \u001b[0;34m*\u001b[0m \u001b[0;36m2\u001b[0m \u001b[0;34m-\u001b[0m \u001b[0;36m1\u001b[0m  \u001b[0;31m# map {0,1} to {-1, +1}\u001b[0m\u001b[0;34m\u001b[0m\u001b[0m\n\u001b[0;32m--> 237\u001b[0;31m     \u001b[0mlinear_template\u001b[0m\u001b[0;34m[\u001b[0m\u001b[0midx_reassignment\u001b[0m\u001b[0;34m]\u001b[0m \u001b[0;34m=\u001b[0m \u001b[0mrand_values\u001b[0m\u001b[0;34m\u001b[0m\u001b[0m\n\u001b[0m\u001b[1;32m    238\u001b[0m     \u001b[0;32mreturn\u001b[0m \u001b[0mlinear_template\u001b[0m\u001b[0;34m.\u001b[0m\u001b[0mreshape\u001b[0m\u001b[0;34m(\u001b[0m\u001b[0mtemplate\u001b[0m\u001b[0;34m.\u001b[0m\u001b[0mshape\u001b[0m\u001b[0;34m)\u001b[0m\u001b[0;34m\u001b[0m\u001b[0m\n\u001b[1;32m    239\u001b[0m \u001b[0;34m\u001b[0m\u001b[0m\n",
      "\u001b[0;31mValueError\u001b[0m: shape mismatch: value array of shape (100,) could not be broadcast to indexing result of shape (20,)"
     ]
    }
   ],
   "source": [
    "%matplotlib inline\n",
    "import matplotlib.pyplot as plt\n",
    "from neurodynex.hopfield_network import network, pattern_tools, plot_tools\n",
    "import numpy\n",
    "\n",
    "# the letters we want to store in the hopfield network\n",
    "letter_list = ['A', 'B', 'C', 'S', 'X', 'Y', 'Z']\n",
    "\n",
    "# set a seed to reproduce the same noise in the next run\n",
    "# numpy.random.seed(123)\n",
    "\n",
    "abc_dictionary =pattern_tools.load_alphabet()\n",
    "print(\"the alphabet is stored in an object of type: {}\".format(type(abc_dictionary)))\n",
    "# access the first element and get it's size (they are all of same size)\n",
    "pattern_shape = abc_dictionary['A'].shape\n",
    "print(\"letters are patterns of size: {}. Create a network of corresponding size\".format(pattern_shape))\n",
    "# create an instance of the class HopfieldNetwork\n",
    "hopfield_net = network.HopfieldNetwork(nr_neurons= pattern_shape[0]*pattern_shape[1])\n",
    "\n",
    "# create a list using Pythons List Comprehension syntax:\n",
    "pattern_list = [abc_dictionary[key] for key in letter_list ]\n",
    "plot_tools.plot_pattern_list(pattern_list)\n",
    "\n",
    "# store the patterns\n",
    "hopfield_net.store_patterns(pattern_list)\n",
    "\n",
    "# # create a noisy version of a pattern and use that to initialize the network\n",
    "noisy_init_state = pattern_tools.get_noisy_copy(abc_dictionary['A'], noise_level=0.2)\n",
    "hopfield_net.set_state_from_pattern(noisy_init_state)\n",
    "\n",
    "# from this initial state, let the network dynamics evolve.\n",
    "states = hopfield_net.run_with_monitoring(nr_steps=4)\n",
    "\n",
    "# each network state is a vector. reshape it to the same shape used to create the patterns.\n",
    "states_as_patterns = pattern_tools.reshape_patterns(states, pattern_list[0].shape)\n",
    "\n",
    "# plot the states of the network\n",
    "plot_tools.plot_state_sequence_and_overlap(\n",
    "    states_as_patterns, pattern_list, reference_idx=0, suptitle=\"Network dynamics\")"
   ]
  },
  {
   "cell_type": "markdown",
   "metadata": {
    "collapsed": true
   },
   "source": [
    "## 8.5.2. Add a letter.\n",
    "#### [2 points]"
   ]
  },
  {
   "cell_type": "code",
   "execution_count": 12,
   "metadata": {},
   "outputs": [
    {
     "name": "stdout",
     "output_type": "stream",
     "text": [
      "the alphabet is stored in an object of type: <type 'dict'>\n",
      "letters are patterns of size: (10, 10). Create a network of corresponding size\n"
     ]
    },
    {
     "data": {
      "image/png": "[encoded data removed]",
      "text/plain": [
       "<matplotlib.figure.Figure at 0x10b312210>"
      ]
     },
     "metadata": {},
     "output_type": "display_data"
    },
    {
     "ename": "ValueError",
     "evalue": "shape mismatch: value array of shape (100,) could not be broadcast to indexing result of shape (20,)",
     "output_type": "error",
     "traceback": [
      "\u001b[0;31m---------------------------------------------------------------------------\u001b[0m",
      "\u001b[0;31mValueError\u001b[0m                                Traceback (most recent call last)",
      "\u001b[0;32m<ipython-input-12-7ff353e8b85a>\u001b[0m in \u001b[0;36m<module>\u001b[0;34m()\u001b[0m\n\u001b[1;32m     21\u001b[0m \u001b[0;34m\u001b[0m\u001b[0m\n\u001b[1;32m     22\u001b[0m \u001b[0;31m# # create a noisy version of a pattern and use that to initialize the network\u001b[0m\u001b[0;34m\u001b[0m\u001b[0;34m\u001b[0m\u001b[0m\n\u001b[0;32m---> 23\u001b[0;31m \u001b[0mnoisy_init_state\u001b[0m \u001b[0;34m=\u001b[0m \u001b[0mpattern_tools\u001b[0m\u001b[0;34m.\u001b[0m\u001b[0mget_noisy_copy\u001b[0m\u001b[0;34m(\u001b[0m\u001b[0mabc_dictionary\u001b[0m\u001b[0;34m[\u001b[0m\u001b[0;34m'A'\u001b[0m\u001b[0;34m]\u001b[0m\u001b[0;34m,\u001b[0m \u001b[0mnoise_level\u001b[0m\u001b[0;34m=\u001b[0m\u001b[0;36m0.2\u001b[0m\u001b[0;34m)\u001b[0m\u001b[0;34m\u001b[0m\u001b[0m\n\u001b[0m\u001b[1;32m     24\u001b[0m \u001b[0mhopfield_net\u001b[0m\u001b[0;34m.\u001b[0m\u001b[0mset_state_from_pattern\u001b[0m\u001b[0;34m(\u001b[0m\u001b[0mnoisy_init_state\u001b[0m\u001b[0;34m)\u001b[0m\u001b[0;34m\u001b[0m\u001b[0m\n\u001b[1;32m     25\u001b[0m \u001b[0;34m\u001b[0m\u001b[0m\n",
      "\u001b[0;32m/Users/davidcleres/miniconda2/envs/bmnn/lib/python2.7/site-packages/neurodynex/hopfield_network/pattern_tools.pyc\u001b[0m in \u001b[0;36mget_noisy_copy\u001b[0;34m(template, noise_level)\u001b[0m\n\u001b[1;32m    235\u001b[0m     \u001b[0mrand_values\u001b[0m \u001b[0;34m=\u001b[0m \u001b[0mnp\u001b[0m\u001b[0;34m.\u001b[0m\u001b[0mrandom\u001b[0m\u001b[0;34m.\u001b[0m\u001b[0mbinomial\u001b[0m\u001b[0;34m(\u001b[0m\u001b[0;36m1\u001b[0m\u001b[0;34m,\u001b[0m \u001b[0;36m0.5\u001b[0m\u001b[0;34m,\u001b[0m \u001b[0mn\u001b[0m\u001b[0;34m)\u001b[0m\u001b[0;34m\u001b[0m\u001b[0m\n\u001b[1;32m    236\u001b[0m     \u001b[0mrand_values\u001b[0m \u001b[0;34m=\u001b[0m \u001b[0mrand_values\u001b[0m \u001b[0;34m*\u001b[0m \u001b[0;36m2\u001b[0m \u001b[0;34m-\u001b[0m \u001b[0;36m1\u001b[0m  \u001b[0;31m# map {0,1} to {-1, +1}\u001b[0m\u001b[0;34m\u001b[0m\u001b[0m\n\u001b[0;32m--> 237\u001b[0;31m     \u001b[0mlinear_template\u001b[0m\u001b[0;34m[\u001b[0m\u001b[0midx_reassignment\u001b[0m\u001b[0;34m]\u001b[0m \u001b[0;34m=\u001b[0m \u001b[0mrand_values\u001b[0m\u001b[0;34m\u001b[0m\u001b[0m\n\u001b[0m\u001b[1;32m    238\u001b[0m     \u001b[0;32mreturn\u001b[0m \u001b[0mlinear_template\u001b[0m\u001b[0;34m.\u001b[0m\u001b[0mreshape\u001b[0m\u001b[0;34m(\u001b[0m\u001b[0mtemplate\u001b[0m\u001b[0;34m.\u001b[0m\u001b[0mshape\u001b[0m\u001b[0;34m)\u001b[0m\u001b[0;34m\u001b[0m\u001b[0m\n\u001b[1;32m    239\u001b[0m \u001b[0;34m\u001b[0m\u001b[0m\n",
      "\u001b[0;31mValueError\u001b[0m: shape mismatch: value array of shape (100,) could not be broadcast to indexing result of shape (20,)"
     ]
    }
   ],
   "source": [
    "# the letters we want to store in the hopfield network\n",
    "letter_list = ['A', 'B', 'C','R', 'S', 'X', 'Y', 'Z']\n",
    "\n",
    "# set a seed to reproduce the same noise in the next run\n",
    "# numpy.random.seed(123)\n",
    "\n",
    "abc_dictionary =pattern_tools.load_alphabet()\n",
    "print(\"the alphabet is stored in an object of type: {}\".format(type(abc_dictionary)))\n",
    "# access the first element and get it's size (they are all of same size)\n",
    "pattern_shape = abc_dictionary['A'].shape\n",
    "print(\"letters are patterns of size: {}. Create a network of corresponding size\".format(pattern_shape))\n",
    "# create an instance of the class HopfieldNetwork\n",
    "hopfield_net = network.HopfieldNetwork(nr_neurons= pattern_shape[0]*pattern_shape[1])\n",
    "\n",
    "# create a list using Pythons List Comprehension syntax:\n",
    "pattern_list = [abc_dictionary[key] for key in letter_list ]\n",
    "plot_tools.plot_pattern_list(pattern_list)\n",
    "\n",
    "# store the patterns\n",
    "hopfield_net.store_patterns(pattern_list)\n",
    "\n",
    "# # create a noisy version of a pattern and use that to initialize the network\n",
    "noisy_init_state = pattern_tools.get_noisy_copy(abc_dictionary['A'], noise_level=0.2)\n",
    "hopfield_net.set_state_from_pattern(noisy_init_state)\n",
    "\n",
    "# from this initial state, let the network dynamics evolve.\n",
    "states = hopfield_net.run_with_monitoring(nr_steps=4)\n",
    "\n",
    "# each network state is a vector. reshape it to the same shape used to create the patterns.\n",
    "states_as_patterns = pattern_tools.reshape_patterns(states, pattern_list[0].shape)\n",
    "\n",
    "# plot the states of the network\n",
    "plot_tools.plot_state_sequence_and_overlap(\n",
    "    states_as_patterns, pattern_list, reference_idx=0, suptitle=\"Network dynamics\")"
   ]
  },
  {
   "cell_type": "markdown",
   "metadata": {},
   "source": [
    "Is the pattern ‘A’ still a fixed point? \n",
    "Does the overlap between the network state and the reference pattern ‘A’ always decrease? (max 3 lines)\n",
    "#### [3 points]"
   ]
  },
  {
   "cell_type": "markdown",
   "metadata": {
    "collapsed": true
   },
   "source": [
    "## 8.5.3. Capacity.\n",
    "#### [3 points]"
   ]
  },
  {
   "cell_type": "code",
   "execution_count": 13,
   "metadata": {},
   "outputs": [],
   "source": [
    "# write your code here\n"
   ]
  },
  {
   "cell_type": "markdown",
   "metadata": {},
   "source": [
    "Explain the discrepancy between the network capacity C (computed above) and your observation. (max 4 lines)\n",
    "#### [3 points]"
   ]
  },
  {
   "cell_type": "markdown",
   "metadata": {},
   "source": [
    "# 8.6. Implementing different types of dynamics\n",
    "### *** Note:*** this exercise is NOT a bonus and it is graded\n",
    "## 8.6.1. Exercise:\n",
    "Implement a Hopfield network with asynchronous dynamics (use the function set_dynamics_sign_async()). Store 5 random patterns (take inspiration from exercise 8.3). Fix a noisy initial state, run the network a few times and observe the performance over the different trials.\n",
    "\n",
    "Parameters: network size=5x5, number of rnd patterns=5, on probability=0.5, number of flips=8.\n",
    "#### [5 points]"
   ]
  },
  {
   "cell_type": "code",
   "execution_count": 14,
   "metadata": {},
   "outputs": [
    {
     "data": {
      "image/png": "[encoded data removed]",
      "text/plain": [
       "<matplotlib.figure.Figure at 0x10abb1e50>"
      ]
     },
     "metadata": {},
     "output_type": "display_data"
    },
    {
     "data": {
      "image/png": "[encoded data removed]",
      "text/plain": [
       "<matplotlib.figure.Figure at 0x10adc57d0>"
      ]
     },
     "metadata": {},
     "output_type": "display_data"
    },
    {
     "data": {
      "image/png": "[encoded data removed]",
      "text/plain": [
       "<matplotlib.figure.Figure at 0x10abb1f50>"
      ]
     },
     "metadata": {},
     "output_type": "display_data"
    }
   ],
   "source": [
    "#Create a network with N=16 neurons.\n",
    "pattern_size = 5\n",
    "\n",
    "# create an instance of the class HopfieldNetwork / Create a single 5 by 5 checkerboard pattern.\n",
    "hopfield_net = network.HopfieldNetwork(nr_neurons= pattern_size**2)\n",
    "# instantiate a pattern factory\n",
    "factory = pattern_tools.PatternFactory(pattern_size, pattern_size)\n",
    "checkerboard = factory.create_checkerboard()\n",
    "\n",
    "# create a checkerboard pattern and add it to the pattern list / Store the checkerboard in the network.\n",
    "pattern_list = [checkerboard]\n",
    "# add random patterns to the list\n",
    "pattern_list.extend(factory.create_random_pattern_list(nr_patterns=5, on_probability=0.5))\n",
    "plot_tools.plot_pattern_list(pattern_list)\n",
    "\n",
    "# how similar are the random patterns and the checkerboard? Check the overlaps\n",
    "overlap_matrix = pattern_tools.compute_overlap_matrix(pattern_list)\n",
    "plot_tools.plot_overlap_matrix(overlap_matrix)\n",
    "\n",
    "# let the hopfield network \"learn\" the patterns. Note: they are not stored\n",
    "# explicitly but only network weights are updated !\n",
    "hopfield_net.store_patterns(pattern_list)\n",
    "\n",
    "# create a noisy version of a pattern and use that to initialize the network\n",
    "noisy_init_state = pattern_tools.flip_n(checkerboard, nr_of_flips=8)\n",
    "hopfield_net.set_state_from_pattern(noisy_init_state)\n",
    "\n",
    "# asynchronous dynamics\n",
    "hopfield_net.set_dynamics_sign_async()\n",
    "\n",
    "# from this initial state, let the network dynamics evolve.\n",
    "states = hopfield_net.run_with_monitoring(nr_steps=5)\n",
    "\n",
    "# Plot the sequence of network states along with the overlap of network state with the checkerboard\n",
    "# each network state is a vector. reshape it to the same shape used to create the patterns.\n",
    "states_as_patterns = factory.reshape_patterns(states)\n",
    "# plot the states of the network\n",
    "plot_tools.plot_state_sequence_and_overlap(states_as_patterns, pattern_list, reference_idx=0, suptitle=\"Network dynamics\")"
   ]
  },
  {
   "cell_type": "markdown",
   "metadata": {},
   "source": [
    "Comment on your results (max 3 lines).\n",
    "#### [3 points]"
   ]
  },
  {
   "cell_type": "markdown",
   "metadata": {
    "collapsed": true
   },
   "source": [
    "From the results, we can see that the network is very often not able to match perfectly the pattern. However, at the end the network is able to come quite close to the ideal solution. "
   ]
  },
  {
   "cell_type": "markdown",
   "metadata": {},
   "source": [
    "## 8.6.2. Stochastic neuron\n",
    "Implement a synchronous and stochastic neuron. Use the function HopfieldNetwork.set_dynamics_to_user_function() in order to pass _get_sigmoid_update_function(), which you should implement. \n",
    "\n",
    "In the stochastic network the dynamics depend on the so-called inverse temperature $\\beta$. The temperature in this system can be seen as noise. The activity $S_i(t+1)$ in the next time-step follows the probability distribution: \n",
    "\\begin{equation}\n",
    "P\\left(S_i(t+1)=1\\right) = \\frac1{1+\\exp\\left[-h_i(t)\\beta\\right]} \\qquad \\textrm{ where } \\qquad h_i(t) = \\sum_j w_{ij} S_j(t)\n",
    "\\end{equation}\n",
    "That is, it is more likely for a neuron $i$ to be set to +1 if its input $h_i$ is higher.\n",
    "\n",
    "Parameters: network size = 5x5, number of rnd patterns = 5, on probability = 0.5, number of flips = 8, $\\beta$=10.\n",
    "\n",
    "*** Hint 1: *** For inspiration check out the source code of the function _get_sign_update_function()\n",
    "\n",
    "*** Hint 2: *** In order to implement stochasticity, we suggest to use the python-library numpy.random.\n",
    "\n",
    "#### [7 points]"
   ]
  },
  {
   "cell_type": "code",
   "execution_count": 15,
   "metadata": {},
   "outputs": [
    {
     "data": {
      "image/png": "[encoded data removed]",
      "text/plain": [
       "<matplotlib.figure.Figure at 0x10b66d8d0>"
      ]
     },
     "metadata": {},
     "output_type": "display_data"
    },
    {
     "data": {
      "image/png": "[encoded data removed]",
      "text/plain": [
       "<matplotlib.figure.Figure at 0x10922ef90>"
      ]
     },
     "metadata": {},
     "output_type": "display_data"
    },
    {
     "data": {
      "image/png": "[encoded data removed]",
      "text/plain": [
       "<matplotlib.figure.Figure at 0x106cb1250>"
      ]
     },
     "metadata": {},
     "output_type": "display_data"
    }
   ],
   "source": [
    "# Synchronous stochastic update\n",
    "def _get_sigmoid_update_function(beta):\n",
    "    \"\"\"\n",
    "    for internal use\n",
    "\n",
    "    Returns:\n",
    "        A function implementing a synchronous state update using the sigmoid function (h)\n",
    "    \"\"\"\n",
    "    def upd(state_s0, weights):   \n",
    "        h = np.sum(weights * state_s0, axis=1)\n",
    "        s1 = 1/(1+np.exp(-h*(beta+np.random.randn(1))))\n",
    "        # by definition, neurons have state +/-1. If the\n",
    "        # sign function returns 0, we set it to +1\n",
    "        idx0 = s1 == 0\n",
    "        s1[idx0] = 1\n",
    "        return s1\n",
    "    return upd\n",
    "\n",
    "beta = 10\n",
    "hopfield_net_stoch = network.HopfieldNetwork(nr_neurons= pattern_size**2)\n",
    "hopfield_net_stoch.set_dynamics_to_user_function(_get_sigmoid_update_function(beta=beta))\n",
    "\n",
    "# instantiate a pattern factory\n",
    "factory = pattern_tools.PatternFactory(pattern_size, pattern_size)\n",
    "# create a checkerboard pattern and add it to the pattern list\n",
    "checkerboard = factory.create_checkerboard()\n",
    "pattern_list = [checkerboard]\n",
    "\n",
    "# add random patterns to the list\n",
    "pattern_list.extend(factory.create_random_pattern_list(nr_patterns=5, on_probability=0.5))\n",
    "plot_tools.plot_pattern_list(pattern_list)\n",
    "# how similar are the random patterns and the checkerboard? Check the overlaps\n",
    "overlap_matrix = pattern_tools.compute_overlap_matrix(pattern_list)\n",
    "plot_tools.plot_overlap_matrix(overlap_matrix)\n",
    "\n",
    "# let the hopfield network \"learn\" the patterns. Note: they are not stored\n",
    "# explicitly but only network weights are updated !\n",
    "hopfield_net.store_patterns(pattern_list)\n",
    "\n",
    "# create a noisy version of a pattern and use that to initialize the network\n",
    "noisy_init_state = pattern_tools.flip_n(checkerboard, nr_of_flips=8)\n",
    "hopfield_net.set_state_from_pattern(noisy_init_state)\n",
    "\n",
    "# from this initial state, let the network dynamics evolve.\n",
    "states = hopfield_net.run_with_monitoring(nr_steps=4)\n",
    "\n",
    "# each network state is a vector. reshape it to the same shape used to create the patterns.\n",
    "states_as_patterns = factory.reshape_patterns(states)\n",
    "# plot the states of the network\n",
    "plot_tools.plot_state_sequence_and_overlap(states_as_patterns, pattern_list, reference_idx=0, suptitle=\"Network dynamics\")"
   ]
  },
  {
   "cell_type": "markdown",
   "metadata": {},
   "source": [
    "## 8.6.3 Finite temperature\n",
    "Choose one of the stored patterns (let's say number 1) and flip 10 bits. Then plot the overlap between the network state and this pattern, $m^1$, over time for different values of $\\beta$, $\\beta\\in \\left[0.1,2,5,100\\right]$.\n",
    "\n",
    "Parameters: network size = 10x10, number of rnd patterns = 5, on probability = 0.5, number of flips = 10, number of trials = 100, number of steps = 9.\n",
    "\n",
    "*** Hint 1:***  In order to plot $m^1$ over time, run the script several times and compute the mean  and the standard deviation $\\sigma$ of the overlap $m^1$ over trials. You can use the function plt.fill and its parameter $\\alpha$ (the transparency), in order to fill with color the area between $+\\sigma$ and $-\\sigma$.\n",
    "\n",
    "*** Hint 2: *** Use the function pattern_tools.compute_overlap()\n",
    "\n",
    "*** Hint 3:*** We suggest to implement and test your code with a smaller network size before getting to the 10x10 units network.\n",
    "#### [7 points]"
   ]
  },
  {
   "cell_type": "code",
   "execution_count": 16,
   "metadata": {},
   "outputs": [
    {
     "ename": "NameError",
     "evalue": "name 'end' is not defined",
     "output_type": "error",
     "traceback": [
      "\u001b[0;31m---------------------------------------------------------------------------\u001b[0m",
      "\u001b[0;31mNameError\u001b[0m                                 Traceback (most recent call last)",
      "\u001b[0;32m<ipython-input-16-d26eded1a8d7>\u001b[0m in \u001b[0;36m<module>\u001b[0;34m()\u001b[0m\n\u001b[1;32m     47\u001b[0m     \u001b[0moverlap\u001b[0m \u001b[0;34m=\u001b[0m \u001b[0mcompute_overlap_over_time\u001b[0m\u001b[0;34m(\u001b[0m\u001b[0mhopfield_net\u001b[0m\u001b[0;34m,\u001b[0m \u001b[0mpattern_list\u001b[0m\u001b[0;34m,\u001b[0m \u001b[0midx\u001b[0m\u001b[0;34m,\u001b[0m \u001b[0minit_state\u001b[0m\u001b[0;34m,\u001b[0m \u001b[0mnTrials\u001b[0m\u001b[0;34m,\u001b[0m \u001b[0mnr_steps\u001b[0m\u001b[0;34m)\u001b[0m\u001b[0;34m\u001b[0m\u001b[0m\n\u001b[1;32m     48\u001b[0m \u001b[0;34m\u001b[0m\u001b[0m\n\u001b[0;32m---> 49\u001b[0;31m     \u001b[0moverlap_mean\u001b[0m\u001b[0;34m[\u001b[0m\u001b[0mj\u001b[0m\u001b[0;34m,\u001b[0m\u001b[0;34m:\u001b[0m\u001b[0;34m]\u001b[0m \u001b[0;34m=\u001b[0m \u001b[0mnp\u001b[0m\u001b[0;34m.\u001b[0m\u001b[0mmean\u001b[0m\u001b[0;34m(\u001b[0m\u001b[0moverlap\u001b[0m\u001b[0;34m[\u001b[0m\u001b[0;34m:\u001b[0m\u001b[0;34m,\u001b[0m \u001b[0mend\u001b[0m\u001b[0;34m]\u001b[0m\u001b[0;34m)\u001b[0m\u001b[0;34m\u001b[0m\u001b[0m\n\u001b[0m\u001b[1;32m     50\u001b[0m     \u001b[0moverlap_std\u001b[0m\u001b[0;34m[\u001b[0m\u001b[0mj\u001b[0m\u001b[0;34m,\u001b[0m\u001b[0;34m:\u001b[0m\u001b[0;34m]\u001b[0m \u001b[0;34m=\u001b[0m \u001b[0mnp\u001b[0m\u001b[0;34m.\u001b[0m\u001b[0mstd\u001b[0m\u001b[0;34m(\u001b[0m\u001b[0moverlap\u001b[0m\u001b[0;34m[\u001b[0m\u001b[0;34m:\u001b[0m\u001b[0;34m,\u001b[0m \u001b[0mend\u001b[0m\u001b[0;34m]\u001b[0m\u001b[0;34m)\u001b[0m \u001b[0;31m#end because we only want to take into account the last step\u001b[0m\u001b[0;34m\u001b[0m\u001b[0m\n\u001b[1;32m     51\u001b[0m \u001b[0;34m\u001b[0m\u001b[0m\n",
      "\u001b[0;31mNameError\u001b[0m: name 'end' is not defined"
     ]
    }
   ],
   "source": [
    "import numpy as np \n",
    "\n",
    "def compute_overlap_over_time(hopfield_net, pattern_list, idx, init_state, nTrials, nr_steps):\n",
    "    \"\"\" For a given hopfield_net and a pattern_list, initialize it with the init_state and run it\n",
    "    Compute its overlap with the pattern pattern_list[idx] in time (for nr_steps)\n",
    "    Repeat the above over many trial (nTrials)\n",
    "    \"\"\"\n",
    "    overlap = np.zeros((nTrials,nr_steps+1))\n",
    "    \n",
    "    for i in range(0,nTrials):\n",
    "        \n",
    "        # learn patterns\n",
    "        #???\n",
    "        hopfield_net.store_patterns(pattern_list)\n",
    "        \n",
    "        # run a synch and stoch Hopfield model with the same initial state\n",
    "        #???\n",
    "        hopfield_net_stoch.set_dynamics_to_user_function(_get_sigmoid_update_function(beta=beta))\n",
    "        \n",
    "        # let the netwrok dynamics evolve\n",
    "        #???\n",
    "        states = hopfield_net.run_with_monitoring(nr_steps=5)\n",
    "        states_as_patterns = factory.reshape_patterns(states) ##???Comment avoir accès à Factory dans la fonction on ne peut pas avoir accès àa la factory. Faut-il prendre la taille du en regardant dans le vector ?? \n",
    "        \n",
    "        for i_step in range(len(states_as_patterns)):\n",
    "            overlap[i,i_step] = pattern_tools.compute_overlap(init_state, pattern_list[idx])\n",
    "    return overlap\n",
    "\n",
    "\n",
    "# Create the patterns and store them\n",
    "nTrials = 100\n",
    "nr_steps= 9\n",
    "betas = [0.1,2,5,100]\n",
    "\n",
    "idx = 1\n",
    "init_state = pattern_tools.flip_n(pattern_list[idx], nr_of_flips=10)\n",
    "\n",
    "overlap_mean = np.zeros((len(betas), nr_steps+1))\n",
    "overlap_std = np.zeros((len(betas), nr_steps+1))\n",
    "for j in range(0, len(betas)):\n",
    "    \n",
    "    #DECLARE A NEW HOPFIELD NET FOR EACH BEAT \n",
    "    hopfield_net_stoch = network.HopfieldNetwork(nr_neurons= pattern_size**2)\n",
    "    hopfield_net_stoch.set_dynamics_to_user_function(_get_sigmoid_update_function(beta=betas[j]))\n",
    "    \n",
    "    #Overlap is a 2D vector were in the 1st column is the trial number and on the second one the number of trial\n",
    "    overlap = compute_overlap_over_time(hopfield_net, pattern_list, idx, init_state, nTrials, nr_steps)\n",
    "    \n",
    "    overlap_mean[j,:] = np.mean(overlap[:, end])\n",
    "    overlap_std[j,:] = np.std(overlap[:, end]) #end because we only want to take into account the last step \n",
    "    \n",
    "    # Plot\n",
    "    plot = plt.plot(betas, overlap_mean)\n",
    "    fill_between(betas, overlap_mean-overlap_std, overlap_mean+overlap_std)"
   ]
  },
  {
   "cell_type": "markdown",
   "metadata": {},
   "source": [
    "Comment on your plot (max 5 lines).\n",
    "#### [5 points]"
   ]
  },
  {
   "cell_type": "markdown",
   "metadata": {},
   "source": [
    "write your answer here"
   ]
  },
  {
   "cell_type": "markdown",
   "metadata": {},
   "source": [
    "## 8.6.4 Asynchronous stochastic neuron\n",
    "Implement the stochastic neuron of exercise 8.6.2, but with asynchronous update.\n",
    "\n",
    "*** Hint: *** For help check out the source code of the function _get_async_sign_update_function()\n",
    "#### [4 points]"
   ]
  },
  {
   "cell_type": "code",
   "execution_count": 1,
   "metadata": {},
   "outputs": [
    {
     "ename": "NameError",
     "evalue": "name 'network' is not defined",
     "output_type": "error",
     "traceback": [
      "\u001b[1;31m---------------------------------------------------------------------------\u001b[0m",
      "\u001b[1;31mNameError\u001b[0m                                 Traceback (most recent call last)",
      "\u001b[1;32m<ipython-input-1-222d4bc611c1>\u001b[0m in \u001b[0;36m<module>\u001b[1;34m()\u001b[0m\n\u001b[0;32m     22\u001b[0m \u001b[1;33m\u001b[0m\u001b[0m\n\u001b[0;32m     23\u001b[0m \u001b[0mbeta\u001b[0m \u001b[1;33m=\u001b[0m \u001b[1;36m10\u001b[0m\u001b[1;33m\u001b[0m\u001b[0m\n\u001b[1;32m---> 24\u001b[1;33m \u001b[0mhopfield_net_asynch_stoch\u001b[0m \u001b[1;33m=\u001b[0m \u001b[0mnetwork\u001b[0m\u001b[1;33m.\u001b[0m\u001b[0mHopfieldNetwork\u001b[0m\u001b[1;33m(\u001b[0m\u001b[0mnr_neurons\u001b[0m\u001b[1;33m=\u001b[0m \u001b[0mpattern_size\u001b[0m\u001b[1;33m**\u001b[0m\u001b[1;36m2\u001b[0m\u001b[1;33m)\u001b[0m\u001b[1;33m\u001b[0m\u001b[0m\n\u001b[0m\u001b[0;32m     25\u001b[0m \u001b[0mhopfield_net_asynch_stoch\u001b[0m\u001b[1;33m.\u001b[0m\u001b[0mset_dynamics_to_user_function\u001b[0m\u001b[1;33m(\u001b[0m\u001b[0m_get_asynch_sigmoid_update_function\u001b[0m\u001b[1;33m(\u001b[0m\u001b[0mbeta\u001b[0m\u001b[1;33m=\u001b[0m\u001b[0mbeta\u001b[0m\u001b[1;33m)\u001b[0m\u001b[1;33m)\u001b[0m\u001b[1;33m\u001b[0m\u001b[0m\n",
      "\u001b[1;31mNameError\u001b[0m: name 'network' is not defined"
     ]
    }
   ],
   "source": [
    "def _get_asynch_sigmoid_update_function(beta):\n",
    "    \"\"\"\n",
    "    for internal use\n",
    "\n",
    "    Returns:\n",
    "        A function implementing a asynchronous state update using the sigmoid function\n",
    "    \"\"\"\n",
    "    def upd(state_s0, weights):\n",
    "        random_neuron_idx_list = np.random.permutation(len(state_s0))\n",
    "        state_s1 = state_s0.copy()\n",
    "        \n",
    "        for i in range(len(random_neuron_idx_list)):\n",
    "            rand_neuron_i = random_neuron_idx_list[i]\n",
    "            h_i = np.dot(weights[:, rand_neuron_i], state_s1)\n",
    "            s_i = 1/(1+np.exp(-h_i*(beta+np.random.randn(1))))\n",
    "            if s_i == 0:\n",
    "                s_i = 1\n",
    "            state_s1[rand_neuron_i] = s_i\n",
    "            \n",
    "        return state_s1\n",
    "    return upd\n",
    "\n",
    "beta = 10\n",
    "hopfield_net_asynch_stoch = network.HopfieldNetwork(nr_neurons= pattern_size**2)\n",
    "hopfield_net_asynch_stoch.set_dynamics_to_user_function(_get_asynch_sigmoid_update_function(beta=beta))"
   ]
  },
  {
   "cell_type": "markdown",
   "metadata": {},
   "source": [
    "# 8.7 Energy \n",
    "\n",
    "## 8.7.1 Exercise\n",
    "Set up a deterministic and asynchronous Hopfield network and store 3 random patterns. \n",
    "\n",
    "The energy can be defined as $E=-\\sum_i^N \\sum_j^N w_{ij} S_i S_j$. \n",
    "\n",
    "Implement a function that calculates the energy according to the above definition. \n",
    "\n",
    "Parameters: network size = 10x10, number of rnd patterns = 3, on probability = 0.5.\n",
    "\n",
    "#### [4 points]"
   ]
  },
  {
   "cell_type": "code",
   "execution_count": 1,
   "metadata": {},
   "outputs": [
    {
     "ename": "NameError",
     "evalue": "name 'network' is not defined",
     "output_type": "error",
     "traceback": [
      "\u001b[1;31m---------------------------------------------------------------------------\u001b[0m",
      "\u001b[1;31mNameError\u001b[0m                                 Traceback (most recent call last)",
      "\u001b[1;32m<ipython-input-1-8bb1f317b4f6>\u001b[0m in \u001b[0;36m<module>\u001b[1;34m()\u001b[0m\n\u001b[0;32m      1\u001b[0m \u001b[1;31m# Set up your network\u001b[0m\u001b[1;33m\u001b[0m\u001b[1;33m\u001b[0m\u001b[0m\n\u001b[0;32m      2\u001b[0m \u001b[0mpattern_size\u001b[0m \u001b[1;33m=\u001b[0m \u001b[1;36m10\u001b[0m\u001b[1;33m\u001b[0m\u001b[0m\n\u001b[1;32m----> 3\u001b[1;33m \u001b[0mhopfield_net_asynch_stoch\u001b[0m \u001b[1;33m=\u001b[0m \u001b[0mnetwork\u001b[0m\u001b[1;33m.\u001b[0m\u001b[0mHopfieldNetwork\u001b[0m\u001b[1;33m(\u001b[0m\u001b[0mnr_neurons\u001b[0m\u001b[1;33m=\u001b[0m \u001b[0mpattern_size\u001b[0m\u001b[1;33m**\u001b[0m\u001b[1;36m2\u001b[0m\u001b[1;33m)\u001b[0m\u001b[1;33m\u001b[0m\u001b[0m\n\u001b[0m\u001b[0;32m      4\u001b[0m \u001b[0mhopfield_net_asynch_stoch\u001b[0m\u001b[1;33m.\u001b[0m\u001b[0mset_dynamics_to_user_function\u001b[0m\u001b[1;33m(\u001b[0m\u001b[0m_get_asynch_sigmoid_update_function\u001b[0m\u001b[1;33m(\u001b[0m\u001b[0mbeta\u001b[0m\u001b[1;33m=\u001b[0m\u001b[0mbeta\u001b[0m\u001b[1;33m)\u001b[0m\u001b[1;33m)\u001b[0m\u001b[1;33m\u001b[0m\u001b[0m\n\u001b[0;32m      5\u001b[0m \u001b[1;33m\u001b[0m\u001b[0m\n",
      "\u001b[1;31mNameError\u001b[0m: name 'network' is not defined"
     ]
    }
   ],
   "source": [
    "# Set up your network\n",
    "pattern_size = 10 \n",
    "hopfield_net_asynch_stoch = network.HopfieldNetwork(nr_neurons= pattern_size**2)\n",
    "hopfield_net_asynch_stoch.set_dynamics_to_user_function(_get_asynch_sigmoid_update_function(beta=beta))\n",
    "\n",
    "# instantiate a pattern factory\n",
    "factory = pattern_tools.PatternFactory(pattern_size, pattern_size)\n",
    "# create a checkerboard pattern and add it to the pattern list\n",
    "checkerboard = factory.create_checkerboard()\n",
    "pattern_list = []\n",
    "\n",
    "# add random patterns to the list\n",
    "pattern_list.extend(factory.create_random_pattern_list(nr_patterns=3, on_probability=0.5))\n",
    "plot_tools.plot_pattern_list(pattern_list)\n",
    "\n",
    "# let the hopfield network \"learn\" the patterns. Note: they are not stored\n",
    "# explicitly but only network weights are updated !\n",
    "hopfield_net_asynch_stoch.store_patterns(pattern_list)\n",
    "hopfield_net_asynch_stoch.set_state_from_pattern(pattern_list[0])\n",
    "\n",
    "# from this initial state, let the network dynamics evolve.\n",
    "states = hopfield_net_asynch_stoch.run_with_monitoring(nr_steps=4)\n",
    "\n",
    "# each network state is a vector. reshape it to the same shape used to create the patterns.\n",
    "states_as_patterns = factory.reshape_patterns(states)\n",
    "# plot the states of the network\n",
    "plot_tools.plot_state_sequence_and_overlap(states_as_patterns, pattern_list, reference_idx=0, suptitle=\"Network dynamics\")\n",
    "\n",
    "print(numpy.shape(states))\n",
    "print(numpy.shape(hopfield_net_asynch_stoch.weights))\n",
    "print(numpy.dot(hopfield_net_asynch_stoch.weights,np.transpose(states[0])))\n",
    "#weight is a nrOfNeurons x nrOfNeurons matrix of weights = hopfield_network.weights\n",
    "#State is a 5 x 100 matrix : 5 is the number of steps and 10 x 10 is 100\n",
    "#--> as input we have the sum of a 100 x 100 matrix with a 1 x 100 vector and we sum \n",
    "\n",
    "def energy(weight, state):\n",
    "    return -numpy.sum(numpy.dot(weight,np.transpose(state))*state)\n",
    "\n",
    "for i in range(5):\n",
    "    print(energy(hopfield_net_energy.weights,states[i],pattern_size))"
   ]
  },
  {
   "cell_type": "markdown",
   "metadata": {},
   "source": [
    "## 8.7.2 Exercise\n",
    "Compute the energy of one of the stored patterns: $E (\\xi^{\\mu})$.\n",
    "\n",
    "Choose one pattern and gradually flip more and more bits. For that you need to implement a function flip_idx, after checking out the function pattern_tools.flip_n(). How does the energy change and why? (max 3 lines)\n",
    "\n",
    "*** Hint: *** You can get an intuition by plotting the energy of the state as a function of the number of flipped bits.\n",
    "#### [1 + 6 + 4 points]"
   ]
  },
  {
   "cell_type": "code",
   "execution_count": 55,
   "metadata": {},
   "outputs": [
    {
     "name": "stdout",
     "output_type": "stream",
     "text": [
      "-0.0\n"
     ]
    },
    {
     "data": {
      "image/png": "[encoded data removed]",
      "text/plain": [
       "<matplotlib.figure.Figure at 0x10c26ffd0>"
      ]
     },
     "metadata": {},
     "output_type": "display_data"
    },
    {
     "data": {
      "image/png": "[encoded data removed]",
      "text/plain": [
       "<matplotlib.figure.Figure at 0x10af04c90>"
      ]
     },
     "metadata": {},
     "output_type": "display_data"
    },
    {
     "data": {
      "image/png": "[encoded data removed]",
      "text/plain": [
       "<matplotlib.figure.Figure at 0x10b698f10>"
      ]
     },
     "metadata": {},
     "output_type": "display_data"
    },
    {
     "data": {
      "image/png": "[encoded data removed]",
      "text/plain": [
       "<matplotlib.figure.Figure at 0x10bb05250>"
      ]
     },
     "metadata": {},
     "output_type": "display_data"
    },
    {
     "data": {
      "image/png": "[encoded data removed]",
      "text/plain": [
       "<matplotlib.figure.Figure at 0x10bf409d0>"
      ]
     },
     "metadata": {},
     "output_type": "display_data"
    },
    {
     "data": {
      "image/png": "[encoded data removed]",
      "text/plain": [
       "<matplotlib.figure.Figure at 0x10b8a4090>"
      ]
     },
     "metadata": {},
     "output_type": "display_data"
    },
    {
     "data": {
      "image/png": "[encoded data removed]",
      "text/plain": [
       "<matplotlib.figure.Figure at 0x10c4e9110>"
      ]
     },
     "metadata": {},
     "output_type": "display_data"
    },
    {
     "data": {
      "image/png": "[encoded data removed]",
      "text/plain": [
       "<matplotlib.figure.Figure at 0x10b966f50>"
      ]
     },
     "metadata": {},
     "output_type": "display_data"
    },
    {
     "data": {
      "image/png": "[encoded data removed]",
      "text/plain": [
       "<matplotlib.figure.Figure at 0x10c8e4ad0>"
      ]
     },
     "metadata": {},
     "output_type": "display_data"
    },
    {
     "data": {
      "image/png": "[encoded data removed]",
      "text/plain": [
       "<matplotlib.figure.Figure at 0x10b003f10>"
      ]
     },
     "metadata": {},
     "output_type": "display_data"
    },
    {
     "data": {
      "text/plain": [
       "[<matplotlib.lines.Line2D at 0x10c2e2cd0>]"
      ]
     },
     "execution_count": 55,
     "metadata": {},
     "output_type": "execute_result"
    },
    {
     "data": {
      "image/png": "[encoded data removed]",
      "text/plain": [
       "<matplotlib.figure.Figure at 0x10ac7c790>"
      ]
     },
     "metadata": {},
     "output_type": "display_data"
    }
   ],
   "source": [
    "#computes the energy of oe of the stores patterns\n",
    "print(energy(hopfield_net_asynch_stoch.weights, states[-1])) #[-1] refers to the last element\n",
    "\n",
    "nr_flips = np.arange(0,10,1)\n",
    "energy_flips = np.zeros(len(nr_flips))\n",
    "pattern_to_flip = pattern_list[-1] #so that we always start flipping from the same prototype\n",
    "\n",
    "for i in range(len(nr_flips)):\n",
    "    \n",
    "    pattern_list.pop()\n",
    "    pattern_list.append(pattern_tools.flip_n(pattern_to_flip, nr_of_flips=i))\n",
    "    plot_tools.plot_pattern_list(pattern_list)\n",
    "\n",
    "    hopfield_net_asynch_stoch.store_patterns(pattern_list)\n",
    "    hopfield_net_asynch_stoch.set_state_from_pattern(pattern_list[0])\n",
    "    energy_flips[i] = energy(hopfield_net_asynch_stoch.weights, states[-1])\n",
    "    \n",
    "# Plot\n",
    "plt.plot(nr_flips, energy_flips)"
   ]
  },
  {
   "cell_type": "markdown",
   "metadata": {},
   "source": [
    "your answer"
   ]
  },
  {
   "cell_type": "markdown",
   "metadata": {},
   "source": [
    "## 8.7.3 Question.\n",
    "Compute the energy of the reverse of one of the stored patterns $E(-\\xi^1)$. What do you observe, what are the consequences on the dynamics of the system and why? (max 3 lines) \n",
    "#### [1 + 3 points]"
   ]
  },
  {
   "cell_type": "markdown",
   "metadata": {},
   "source": [
    "## 8.7.4 Exercise.\n",
    "1 - Initialize the network with the state $S_0 = sgn(\\sum_{\\mu}^3 \\xi^{\\mu})$ and run the dynamics. What is the energy of this state?\n",
    "\n",
    "Parameters: number steps = 4.\n",
    "\n",
    "#### [2 points]"
   ]
  },
  {
   "cell_type": "code",
   "execution_count": null,
   "metadata": {},
   "outputs": [],
   "source": [
    "#reminder xhi = {0,1} and not {-1, 1} so we need to find a way to go from Wij to Xhi\n",
    "h = sum(JE SAIS PAS )\n",
    "hopfield_net_asynch_stoch.state = np.sign(h)"
   ]
  },
  {
   "cell_type": "markdown",
   "metadata": {},
   "source": [
    "2 - Consider the ensemble of all states that differ from $S_0$ in exactly one flip. Initialize the network in each of those states and check what is the final state of the dynamical evolution.\n",
    "\n",
    "*** Hint: *** Compare the final states with $S_0$.\n",
    "#### [8 points]"
   ]
  },
  {
   "cell_type": "code",
   "execution_count": null,
   "metadata": {},
   "outputs": [],
   "source": [
    "# Function to flip one neuron\n",
    "def flip_idx(template, idx):\n",
    "    \"\"\"\n",
    "    makes a copy of the template pattern and flips the idx-th state.\n",
    "    Args:\n",
    "        template:\n",
    "        nr_of_flips:\n",
    "    Returns:\n",
    "        a new pattern\n",
    "    \"\"\"\n",
    "    ???\n",
    "    return ???\n",
    "\n",
    "\n",
    "# Flip all neurons one after the other\n",
    "for i in range(0, pattern_size**2):\n",
    "    \n",
    "    s_0_flipped = flip_idx(s_0, i)\n",
    "    \n",
    "    ???"
   ]
  },
  {
   "cell_type": "markdown",
   "metadata": {},
   "source": [
    "3 - What can you tell about the stability of $S_0$? Briefly comment (max 5 lines). \n",
    "\n",
    "***Hint:*** For help, refer to the pdf on associative memory on the MOODLE (https://moodle.epfl.ch/pluginfile.php/1091071/mod_resource/content/0/Lecture5/Hertz_Hopfield.pdf).\n",
    "\n",
    "#### [6 points]"
   ]
  },
  {
   "cell_type": "markdown",
   "metadata": {},
   "source": [
    "your answer"
   ]
  },
  {
   "cell_type": "markdown",
   "metadata": {},
   "source": [
    "## 8.7.5 Question.\n",
    "Does your argumentation above hold in the case of $S_0 = sgn(\\sum_{\\mu}^2 \\xi^{\\mu})$? Why? (max 3 lines)\n",
    "#### [3 points]"
   ]
  },
  {
   "cell_type": "markdown",
   "metadata": {},
   "source": [
    "## 8.7.6 Exercise.\n",
    "Use now the stochastic neuron with asynchronous update you implemented in 8.6.4. Initialize the network with the state $S_0 = sgn(\\sum_{\\mu}^3 \\xi^{\\mu})$. For $\\beta$ varying in $\\beta\\in \\left[1,2,8,10,100\\right]$, plot the overlap of the network initialized with $S_0$ with each of the 3 stored patterns as a function of time. \n",
    "\n",
    "What do you observe? Comment on the stability of the spurious state $S_0$ in each case. (max 4 lines)\n",
    "\n",
    "Parameters: network size = 10x10, number of rnd patterns = 3, on probability = 0.5, number of steps = 9.\n",
    "\n",
    "*** Hint 1: *** Make 4 plots (or 1 plot with 4 subplots), one for each value of $\\beta$.\n",
    "\n",
    "*** Hint 2: *** You can use the function pattern_tools.compute_overlap_list (or pattern_tools.compute_overlap).\n",
    "#### [5 + 4 points]"
   ]
  },
  {
   "cell_type": "code",
   "execution_count": null,
   "metadata": {},
   "outputs": [],
   "source": [
    "???\n",
    "\n",
    "for j in range(0, len(betas)):\n",
    "    \n",
    "    \n",
    "    ???\n",
    "    \n",
    "    \n",
    "    # Compute\n",
    "    \n",
    "    \n",
    "    # Plot"
   ]
  },
  {
   "cell_type": "markdown",
   "metadata": {},
   "source": [
    "your answer"
   ]
  }
 ],
 "metadata": {
  "anaconda-cloud": {},
  "celltoolbar": "Raw Cell Format",
  "kernelspec": {
   "display_name": "Python 2",
   "language": "python",
   "name": "python2"
  },
  "language_info": {
   "codemirror_mode": {
    "name": "ipython",
    "version": 2
   },
   "file_extension": ".py",
   "mimetype": "text/x-python",
   "name": "python",
   "nbconvert_exporter": "python",
   "pygments_lexer": "ipython2",
   "version": "2.7.14"
  }
 },
 "nbformat": 4,
 "nbformat_minor": 1
}
